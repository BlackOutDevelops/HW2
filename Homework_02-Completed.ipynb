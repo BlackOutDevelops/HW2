{
  "nbformat": 4,
  "nbformat_minor": 0,
  "metadata": {
    "colab": {
      "name": "Homework_02.ipynb",
      "provenance": [],
      "collapsed_sections": []
    },
    "coursera": {
      "course_slug": "neural-networks-deep-learning",
      "graded_item_id": "XaIWT",
      "launcher_item_id": "zAgPl"
    },
    "kernelspec": {
      "display_name": "Python 3",
      "language": "python",
      "name": "python3"
    },
    "language_info": {
      "codemirror_mode": {
        "name": "ipython",
        "version": 3
      },
      "file_extension": ".py",
      "mimetype": "text/x-python",
      "name": "python",
      "nbconvert_exporter": "python",
      "pygments_lexer": "ipython3",
      "version": "3.8.5"
    }
  },
  "cells": [
    {
      "cell_type": "markdown",
      "metadata": {
        "id": "CdACg_N31XGs"
      },
      "source": [
        "# Logistic Regression Homework\n",
        "\n",
        "This is the 2nd assignment for CAP 4630 and we will implement logistic regression and apply it to two\n",
        "different datasets. \\\n",
        "You will use **\"Tasks\"** and **\"Hints\"** to finish the work. **(Total 100 Points)** \\\n",
        "You are **not** allowed to use Machine Learning libaries such as Scikit-learn and Keras.\n",
        "\n",
        "**Task Overview:**\n",
        "- Logistic Regression "
      ]
    },
    {
      "cell_type": "markdown",
      "metadata": {
        "id": "YKTAUPYg1XGu"
      },
      "source": [
        "## 1 - Logistic Regression ##\n",
        "### 1.1 Packages\n",
        "\n",
        "Import useful packages for scientific computing and data processing. \n",
        "\n",
        "**Tasks:**\n",
        "1. Import numpy and rename it to np.\n",
        "2. Import pandas and rename it to pd.\n",
        "3. Import the pyplot function in the libraray of matplotlib and rename it to plt.\n",
        "\n",
        "References:\n",
        "- [numpy](www.numpy.org) is the fundamental package for scientific computing with Python.\n",
        "- [matplotlib](http://matplotlib.org) is a famous library to plot graphs in Python.\n",
        "\n",
        "**Attention:**\n",
        "1. After this renaming, you will use the new name to call functions. For example, **numpy** will become **np** in the following sections."
      ]
    },
    {
      "cell_type": "code",
      "metadata": {
        "id": "OS-bXnQm1XGv"
      },
      "source": [
        "# Import and rename libraries here\n",
        "import numpy as np\n",
        "import pandas as pd\n",
        "import matplotlib.pyplot as plt\n",
        "import io\n",
        "from google.colab import files"
      ],
      "execution_count": 346,
      "outputs": []
    },
    {
      "cell_type": "markdown",
      "metadata": {
        "collapsed": true,
        "id": "nv2GAaws1XGv"
      },
      "source": [
        "### 1.2 - Data Preparation ##\n",
        "\n",
        "Prepare the data for regression task. **(20 Points)**\n",
        "\n",
        "**Tasks:**\n",
        "1. Load data for logistic regression.\n",
        "2. **Generate the SCATTER PLOT of the data**.\n",
        "\n",
        "**Hints:**\n",
        "1. The data file is \"data_logistic.csv\", which are exam scores for students.\n",
        "2. The data is organized by column: x1 (exam 1 score), x2 (exam 2 score), and label y (pass 1 or fail 0).\n",
        "3. Please use different colors for postive(label=1) and negative(label=0) data.\n",
        "4. An example of scatter plots is shown below.\n",
        "\n",
        "![](https://drive.google.com/uc?export=view&id=1CPv5s4W8SkUMa_sXCIz-NejSnFj-e1IH)"
      ]
    },
    {
      "cell_type": "code",
      "metadata": {
        "id": "dGhwZrHF1XGw",
        "colab": {
          "resources": {
            "http://localhost:8080/nbextensions/google.colab/files.js": {
              "data": "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",
              "ok": true,
              "headers": [
                [
                  "content-type",
                  "application/javascript"
                ]
              ],
              "status": 200,
              "status_text": ""
            }
          },
          "base_uri": "https://localhost:8080/",
          "height": 351
        },
        "outputId": "38c1059d-b689-4907-9c52-83c75934dcc9"
      },
      "source": [
        "# Preprocess input data and generate plots\n",
        "logisticRegression = files.upload()\n",
        "\n",
        "data = pd.read_csv(io.BytesIO(logisticRegression['data_logistic.csv']))\n",
        "\n",
        "x1 = data.iloc[:, 0]\n",
        "x2 = data.iloc[:, 1]\n",
        "y1 = data.iloc[:, 2]\n",
        "x1_fail = x1[y1 == 0]\n",
        "x2_fail = x2[y1 == 0]\n",
        "x1_pass = x1[y1 == 1]\n",
        "x2_pass = x2[y1 == 1]\n",
        "plt.xlabel(\"x1\")\n",
        "plt.ylabel(\"x2\")\n",
        "dots1 = plt.scatter(x1_pass, x2_pass, s=50, marker='+', c='black', label='Positive')\n",
        "dots2 = plt.scatter(x1_fail, x2_fail, c='yellowgreen', label='Negative')\n",
        "plt.legend([dots1, dots2], ['Positive', 'Negative'])\n",
        "plt.show\n"
      ],
      "execution_count": 347,
      "outputs": [
        {
          "output_type": "display_data",
          "data": {
            "text/html": [
              "\n",
              "     <input type=\"file\" id=\"files-a34479b9-19c6-4b1e-a673-056e8dd1708f\" name=\"files[]\" multiple disabled\n",
              "        style=\"border:none\" />\n",
              "     <output id=\"result-a34479b9-19c6-4b1e-a673-056e8dd1708f\">\n",
              "      Upload widget is only available when the cell has been executed in the\n",
              "      current browser session. Please rerun this cell to enable.\n",
              "      </output>\n",
              "      <script src=\"/nbextensions/google.colab/files.js\"></script> "
            ],
            "text/plain": [
              "<IPython.core.display.HTML object>"
            ]
          },
          "metadata": {}
        },
        {
          "output_type": "stream",
          "name": "stdout",
          "text": [
            "Saving data_logistic.csv to data_logistic (5).csv\n"
          ]
        },
        {
          "output_type": "execute_result",
          "data": {
            "text/plain": [
              "<function matplotlib.pyplot.show>"
            ]
          },
          "metadata": {},
          "execution_count": 347
        },
        {
          "output_type": "display_data",
          "data": {
            "image/png": "[encoded data removed]",
            "text/plain": [
              "<Figure size 432x288 with 1 Axes>"
            ]
          },
          "metadata": {
            "needs_background": "light"
          }
        }
      ]
    },
    {
      "cell_type": "markdown",
      "metadata": {
        "id": "RTbD5T4t1XGw"
      },
      "source": [
        "### 1.3 - Sigmoid function ##\n",
        "\n",
        "\n",
        "Implement sigmoid function so it can be called by the rest of your program. **(20 Points)**\n",
        "\n",
        "**Tasks:**\n",
        "1. Implement the sigmoid function (**def sigmoid(z):**). \n",
        "2. Test the sigmoid function by function **plotting** with test data (X, Y) where Y = sigmoid(X). \n",
        "\n",
        "**Hints:**  \n",
        "1. Given the class material, sigmoid function is defined as:\n",
        "$g(z) = \\frac{1}{1+e^{-z}}$.\n",
        "2. You may consider X = np.linspace(-5, 5, 1000) to plot the curve.\n",
        "3. Plot Y against X.\n",
        "4. An example of plot for validation is shown below:\n",
        "\n",
        "![](https://drive.google.com/uc?export=view&id=18j5oHdw78uVm2WwHsdIb4hwhpXDxR37S)"
      ]
    },
    {
      "cell_type": "code",
      "metadata": {
        "id": "D3IXAyZz1XGw"
      },
      "source": [
        "# Implement sigmoid fuction here\n",
        "def sigmoid(z): \n",
        "  return 1/(1 + np.exp(-z))\n",
        "x = np.linspace(-5, 5, 1000)\n",
        "y = sigmoid(x)"
      ],
      "execution_count": 348,
      "outputs": []
    },
    {
      "cell_type": "code",
      "metadata": {
        "id": "4Nbd9efm1XGw",
        "colab": {
          "base_uri": "https://localhost:8080/",
          "height": 279
        },
        "outputId": "e075f218-59f1-4897-e8a4-6ff4a62038f0"
      },
      "source": [
        "# Plot data here\n",
        "plt.xlabel('X', style='italic')\n",
        "plt.ylabel('g(X)', style='italic')\n",
        "plt.plot(x, y)\n",
        "plt.show()"
      ],
      "execution_count": 349,
      "outputs": [
        {
          "output_type": "display_data",
          "data": {
            "image/png": "[encoded data removed]",
            "text/plain": [
              "<Figure size 432x288 with 1 Axes>"
            ]
          },
          "metadata": {
            "needs_background": "light"
          }
        }
      ]
    },
    {
      "cell_type": "markdown",
      "metadata": {
        "id": "aq5Tx0vH1XGw"
      },
      "source": [
        "### 1.4 - Cost function and gradient ##\n",
        "\n",
        "Implement the cross entropy cost function and its gradient for logistic regression. **(30 Points)**\n",
        "\n",
        "**Tasks:**\n",
        "1. Implement the \"cal_cost\" to compute the cost.\n",
        "2. Implement the \"cal_grad\" to compute the gradients.\n",
        "3. Test \"cal_cost\" and \"cal_grad\" with initial values and print out the results.\n",
        "\n",
        "**Hint:**\n",
        "1. The cross entropy cost function (J(θ)) in logistic regression is shown below. It involves two terms, including ylog(h) and (1-y)log(1-h) where h is the function of x.\n",
        "\n",
        "![](https://drive.google.com/uc?export=view&id=1xLhlPFI4wekwuA7lFm7ebRVt0XBZk3e7)\n",
        "\n",
        "2. The gradient of the cost J(θ) is a vector of the same length as θ where the $j$th element (for $j = 0, 1, . . . , n)$ is defined below. You may do a hand calculation to justify the first order derivative with the term above.\n",
        "\n",
        "![](https://drive.google.com/uc?export=view&id=1xfA0A0xyRv2L5JZIdedAmEZxZ3DwpOCF)\n",
        "\n",
        "3. When you implement J(θ), please use eps = 1e-15 to prevent possible \"divide by 0 exception\" in second term. You may think about the reason.\n",
        "4. You may consider the below templates for two functions:\n",
        "\n",
        "    def cal_cost(theta, X, y):\n",
        " \n",
        "        htheta = ...\n",
        "        term1 = ...  /* matrix_multiplication(log(htheta), y)\n",
        "        term2 = ...  /* matrix_multiplication(log(1-htheta+eps), (1-y))\n",
        "        J = - 1 / m * (term1 + term2) \n",
        "        \n",
        "        return cost\n",
        "        \n",
        "    \n",
        "    def cal_grad(theta, X, y):\n",
        "        \n",
        "        htheta = ...\n",
        "        term1 = ... /* matrix_multiplication(transpose(X), (htheta - y))  //you may think about why transpose(x)\n",
        "        grad = 1 / m * term1 \n",
        "    \n",
        "        return grad\n",
        "5. It involves matrix multiplication and you may consider the function of np.matmul or np.dot.   \n",
        "        \n",
        "6. Initialize the intercept term (constant term) with **ones** and the theta with **zeros**. Test the functions with these initial values. \\\n",
        "    **Expected outputs:**\\\n",
        "    Cost at initial theta : 0.6931471805599445\\\n",
        "    Gradient at inital theta : [-0.1        -10.91242026 -11.73652937]\n"
      ]
    },
    {
      "cell_type": "code",
      "metadata": {
        "id": "YpmGywdA1XGx",
        "colab": {
          "base_uri": "https://localhost:8080/"
        },
        "outputId": "cf00dd2b-c815-41c4-818d-06e63286e977"
      },
      "source": [
        "# Implement the cost function here\n",
        "def cal_cost(theta, X, y):\n",
        "  m = len(y)\n",
        "  htheta = np.squeeze(np.asarray(sigmoid(np.dot(X, theta))))\n",
        "  term1 = np.dot(np.log(htheta), y)                # matrix_multiplication(log(htheta), y)\n",
        "  term2 = np.dot(np.log(1-htheta+eps), (1-y))      # matrix_multiplication(log(1-htheta+eps), (1-y))\n",
        "  cost = - 1 / m * (term1 + term2) \n",
        "\n",
        "  return cost\n",
        "\n",
        "def cal_grad(theta, X, y):\n",
        "  m = len(y)\n",
        "  grad = np.zeros(theta.shape)\n",
        "  htheta = sigmoid(np.dot(X, theta))\n",
        "  term1 = np.dot(np.transpose(X), (htheta - y))  # matrix_multiplication(transpose(X), (htheta - y))  //you may think about why transpose(x)\n",
        "  grad = 1 / m * term1 \n",
        "\n",
        "  return grad\n",
        "\n",
        "eps = np.exp(-15)\n",
        "m = x1.size\n",
        "n = 3\n",
        "X = np.ones((m, n))\n",
        "X[:,1] = x1\n",
        "X[:,2] = x2\n",
        "y = np.ones((m, 1))\n",
        "y[:,0] = y1\n",
        "theta = np.zeros((n, 1))\n",
        "print(\"Cost at initial theta: \", '%.16f' % cal_cost(theta, X, y))\n",
        "print(\"Gradient at initial theta: \", *cal_grad(theta, X, y))"
      ],
      "execution_count": 350,
      "outputs": [
        {
          "output_type": "stream",
          "name": "stdout",
          "text": [
            "Cost at initial theta:  0.6931469358381638\n",
            "Gradient at initial theta:  [-0.1] [-10.91242026] [-11.73652937]\n"
          ]
        }
      ]
    },
    {
      "cell_type": "markdown",
      "metadata": {
        "id": "bvB10X-x1XGy"
      },
      "source": [
        "## 1.5 Train parameters with Gradient Descent ##\n",
        "\n",
        "\n",
        "Train parameters using Gradient Descent. **(15 Points)**\n",
        "\n",
        "**Tasks:**\n",
        "1. Calculate best fit theta by Gradient Descent with learning rate of **0.001 (1e-3)** and epoch of **80K**. The initial theta from above blocks is used as initial values.\n",
        "2. Print out the best theta (the last one is considered as the best here) and its corresponding cost.\n",
        "3. **Plot the decision boundary**.\n",
        "\n",
        "**Hints:**\n",
        "1. You may take gradient descent in homework 1 as an template.\n",
        "2. Derive the boundary line from **sigmoid(theta[0]+ X1 * theta[1] + X2* theta[2])=0.5**. Think about why we get the line by setting **the activated probability to 0.5**. Also, try to calculate the final relationship between X1 and X2. When sigmoid(X) = 0.5, what is the value of x? Check the generated plot in 1.3.\n",
        "3. The validation of first 5 epochs (updated theta and cost): \\\n",
        "------Epoch 0------\\\n",
        "Theta: [0.0001     0.01091242 0.01173653]\\\n",
        "Cost: 0.6996118077359638\\\n",
        "------Epoch 1------\\\n",
        "Theta: [-0.0001129   0.00053949  0.00229352]\\\n",
        "Cost: 0.6649331468590681\\\n",
        "------Epoch 2------\\\n",
        "Theta: [-5.93604956e-05  8.33145873e-03  1.07754324e-02]\\\n",
        "Cost: 0.6679914364992459\\\n",
        "------Epoch 3------\\\n",
        "Theta: [-0.0002356   0.0004607   0.00370829]\\\n",
        "Cost: 0.6545873034874964\\\n",
        "------Epoch 4------\\\n",
        "Theta: [-0.00020363  0.00683227  0.01065138]\\\n",
        "Cost: 0.6563302142684528\n",
        "4. You may take the plots below as an exmample: \n",
        "\n",
        "![](https://drive.google.com/uc?export=view&id=1xLg9LrIF888gGXj3zRAG9iJLsyAmgPQg)\n",
        "\n",
        "5. It may take ~1 min to finish running."
      ]
    },
    {
      "cell_type": "code",
      "metadata": {
        "colab": {
          "base_uri": "https://localhost:8080/"
        },
        "id": "iqGwDqwb1XGy",
        "outputId": "d6972444-be73-4450-999c-b301bc1fecc0"
      },
      "source": [
        "# Gradient Descent Implementation Here\n",
        "L = 0.001  # Learning Rate\n",
        "epochs = 80000 # Number of iterations to perform gradient descent\n",
        "\n",
        "n = float(len(x1)) # Number of elements in X column\n",
        "\n",
        "# Performing the gradient descent\n",
        "for i in range(epochs):\n",
        "  Y_pred = sigmoid(theta[0] + theta[1]*x1 + theta[2]*x2) # Current predicted value of y1\n",
        "  D_a = (-1/n) * sum(y1 - Y_pred) # Derivative wrt theta[0]\n",
        "  D_b = (-1/n) * sum(x1 * (y1 - Y_pred)) # Derivative wrt theta[1]\n",
        "  D_c = (-1/n) * sum(x2 * (y1 - Y_pred)) # Derivative wrt theta[2]\n",
        "  theta[0] = theta[0] - L * D_a # Update theta[0]\n",
        "  theta[1] = theta[1] - L * D_b # Update theta[1]\n",
        "  theta[2] = theta[2] - L * D_c # Update theta[2]\n",
        "  if i >= 0 and i <= 4:\n",
        "    print(\"------Epoch \" + str(i) + \"------\")\n",
        "    print(\"Theta: [\", *theta[0], \" \", *theta[1], \" \", *theta[2], \"]\", sep=\"\")\n",
        "    print(\"Cost:\", *cal_cost(theta, X, y))"
      ],
      "execution_count": 351,
      "outputs": [
        {
          "output_type": "stream",
          "name": "stdout",
          "text": [
            "------Epoch 0------\n",
            "Theta: [0.0001 0.0109124202646875 0.011736529367687501]\n",
            "Cost: 0.6996112610661285\n",
            "------Epoch 1------\n",
            "Theta: [-0.00011290115939107432 0.000539485887200538 0.0022935225185411034]\n",
            "Cost: 0.6649328820975415\n",
            "------Epoch 2------\n",
            "Theta: [-5.9360495627055585e-05 0.008331458731803437 0.010775432430364749]\n",
            "Cost: 0.6679909662610543\n",
            "------Epoch 3------\n",
            "Theta: [-0.0002356046412473923 0.00046070099899630026 0.003708293134405934]\n",
            "Cost: 0.6545870281923452\n",
            "------Epoch 4------\n",
            "Theta: [-0.0002036298945990878 0.0068322748594990355 0.01065138295381699]\n",
            "Cost: 0.6563297742842927\n"
          ]
        }
      ]
    },
    {
      "cell_type": "code",
      "metadata": {
        "id": "6uhLvAqk1XGy",
        "colab": {
          "base_uri": "https://localhost:8080/",
          "height": 296
        },
        "outputId": "d9ff109c-718e-4b44-fda8-05c3ec6e9693"
      },
      "source": [
        "# Draw Decision Boundary Here\n",
        "boundary = -(theta[0] + theta[1]*x1)/(theta[2])\n",
        "\n",
        "plt.xlabel(\"x1\")\n",
        "plt.ylabel(\"x2\")\n",
        "dots1 = plt.scatter(x1_pass, x2_pass, s=50, marker='+', c='black', label='Positive')\n",
        "dots2 = plt.scatter(x1_fail, x2_fail, c='yellowgreen', label='Negative')\n",
        "plt.plot(x1, boundary)\n",
        "plt.legend([dots1, dots2], ['Positive', 'Negative'], loc = 'lower left')\n",
        "plt.ylim((0, 105))\n",
        "plt.show"
      ],
      "execution_count": 352,
      "outputs": [
        {
          "output_type": "execute_result",
          "data": {
            "text/plain": [
              "<function matplotlib.pyplot.show>"
            ]
          },
          "metadata": {},
          "execution_count": 352
        },
        {
          "output_type": "display_data",
          "data": {
            "image/png": "[encoded data removed]",
            "text/plain": [
              "<Figure size 432x288 with 1 Axes>"
            ]
          },
          "metadata": {
            "needs_background": "light"
          }
        }
      ]
    },
    {
      "cell_type": "markdown",
      "metadata": {
        "id": "uALpD3Hr1XGy"
      },
      "source": [
        "\n",
        "### 1.6 Evaluating Logistic Regression\n",
        "\n",
        "Evaluate the model with given data. **(15 Points)**\n",
        "\n",
        "**Tasks:**\n",
        "1. Calculate the training accuracy and **PRINT IT OUT**.\n",
        "2. Evaluate the predicted probability of the learnt model with x1 = 56 and x2 = 32 and **PRINT IT OUT**.\n",
        "\n",
        "\n",
        "**Hints:**  \n",
        "1. Positive(prediction>0.5) and negative(prediction<=0.5). \n",
        "2. The prediction results are based on acceptance probability. Given the two exam scores, we expected the model yields either high probability of \"fail\" or low probability of \"pass\".\n",
        "3. Training accuracy should be around **85%**."
      ]
    },
    {
      "cell_type": "code",
      "metadata": {
        "id": "LcoKm-E61XGz",
        "colab": {
          "base_uri": "https://localhost:8080/"
        },
        "outputId": "18a6f043-a677-4868-9cb7-1b7ae3df8b40"
      },
      "source": [
        "# Evaluate the model\n",
        "trueNegatives = 0\n",
        "truePositives = 0\n",
        "falseNegatives = 0\n",
        "falsePositives = 0\n",
        "for i in range(Y_pred.size):\n",
        "  if boundary[i] <= x2[i] and y1[i] == 0:\n",
        "    falseNegatives += 1\n",
        "  if boundary[i] <= x2[i] and y1[i] == 1:\n",
        "    truePositives += 1\n",
        "  if boundary[i] > x2[i] and y1[i] == 0:\n",
        "    trueNegatives += 1\n",
        "  if boundary[i] > x2[i] and y1[i] == 1:\n",
        "    falsePositives += 1\n",
        "\n",
        "test_x1 = 56\n",
        "test_x2 = 32\n",
        "predictedProbability = (np.exp(theta[0] + theta[1]*test_x1 + theta[2]*test_x2))/(1 + (np.exp(theta[0] + theta[1]*test_x1 + theta[2]*test_x2))) * 100\n",
        "trainingAccuracy = (trueNegatives + truePositives)/(truePositives + trueNegatives + falseNegatives + falsePositives) * 100\n",
        "print(\"Training Accuracy: \", '%.2f' % trainingAccuracy, \"%\", sep='')\n",
        "print(\"Predicted Probability: \", '%.2f' % predictedProbability, \"%\", sep='')"
      ],
      "execution_count": 353,
      "outputs": [
        {
          "output_type": "stream",
          "name": "stdout",
          "text": [
            "Training Accuracy: 85.00%\n",
            "Predicted Probability: 27.43%\n"
          ]
        }
      ]
    }
  ]
}